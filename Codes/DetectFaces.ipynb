{
 "cells": [
  {
   "cell_type": "code",
   "execution_count": 7,
   "metadata": {},
   "outputs": [
    {
     "name": "stdout",
     "output_type": "stream",
     "text": [
      "[[ 515  615  180  180]\n",
      " [2928  596  195  195]\n",
      " [2026  506  215  215]\n",
      " [1580  468  222  222]\n",
      " [ 164  641  210  210]\n",
      " [1166  549  215  215]\n",
      " [ 838  554  214  214]\n",
      " [2648  573  189  189]\n",
      " [2362  568  212  212]]\n"
     ]
    }
   ],
   "source": [
    "import cv2\n",
    "\n",
    "dataset = cv2.CascadeClassifier('haarcascade_frontalface_default.xml')\n",
    "img = cv2.imread('image_1.jpg')\n",
    "\n",
    "faces = dataset.detectMultiScale(img,1.3)\n",
    "print(faces)"
   ]
  },
  {
   "cell_type": "code",
   "execution_count": 6,
   "metadata": {},
   "outputs": [
    {
     "data": {
      "text/plain": [
       "True"
      ]
     },
     "execution_count": 6,
     "metadata": {},
     "output_type": "execute_result"
    }
   ],
   "source": [
    "for x,y,w,h in faces:\n",
    "#     image, (posx, posy), (width,height), (color), border_width\n",
    "    cv2.rectangle(img, (x,y), (x+w, y+h), (255,0,0),4)\n",
    "cv2.imwrite('image_2.jpg',img)"
   ]
  },
  {
   "cell_type": "code",
   "execution_count": null,
   "metadata": {},
   "outputs": [],
   "source": []
  }
 ],
 "metadata": {
  "kernelspec": {
   "display_name": "Python 3",
   "language": "python",
   "name": "python3"
  },
  "language_info": {
   "codemirror_mode": {
    "name": "ipython",
    "version": 3
   },
   "file_extension": ".py",
   "mimetype": "text/x-python",
   "name": "python",
   "nbconvert_exporter": "python",
   "pygments_lexer": "ipython3",
   "version": "3.6.2"
  }
 },
 "nbformat": 4,
 "nbformat_minor": 2
}
